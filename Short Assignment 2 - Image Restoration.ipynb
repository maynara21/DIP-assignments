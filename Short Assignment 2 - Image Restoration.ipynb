{
 "cells": [
  {
   "cell_type": "markdown",
   "metadata": {},
   "source": [
    "<b>The input must be in this order:</b>\n",
    "\n",
    "><b>image filename</b><br>\n",
    "><b>k</b> (filter size, a positive and odd integer) <br>\n",
    "><b>sigma</b> (standard deviation, a float point number > 0 and <=1) <br>\n",
    "><b>gamma</b> (regularization factor, a float point number >= 0 and <=1) <br>"
   ]
  },
  {
   "cell_type": "code",
   "execution_count": 1,
   "metadata": {},
   "outputs": [
    {
     "data": {
      "text/plain": [
       "'\\nfilename = str(input()).rstrip()\\nimg = imageio.imread(filename)\\nk = int(input())\\nassert k % 2 == 1\\nsigma = float(input())\\nassert sigma > 0 and sigma <= 1\\ngamma = float(input())\\nassert gamma >= 0 and gamma <=1 '"
      ]
     },
     "execution_count": 1,
     "metadata": {},
     "output_type": "execute_result"
    }
   ],
   "source": [
    "\"\"\"\n",
    "filename = str(input()).rstrip()\n",
    "img = imageio.imread(filename)\n",
    "k = int(input())\n",
    "assert k % 2 == 1\n",
    "sigma = float(input())\n",
    "assert sigma > 0 and sigma <= 1\n",
    "gamma = float(input())\n",
    "assert gamma >= 0 and gamma <=1 \"\"\""
   ]
  },
  {
   "cell_type": "code",
   "execution_count": 2,
   "metadata": {},
   "outputs": [],
   "source": [
    "import numpy as np\n",
    "import imageio\n",
    "from scipy.fftpack import fftn, ifftn, fftshift\n",
    "import matplotlib.pyplot as plt"
   ]
  },
  {
   "cell_type": "code",
   "execution_count": 3,
   "metadata": {},
   "outputs": [],
   "source": [
    "def gaussian_filter(k=3, sigma=1.0):\n",
    "    arx = np.arange((-k // 2) + 1.0, (k // 2) + 1.0)\n",
    "    x, y = np.meshgrid(arx, arx)\n",
    "    filt = np.exp( -(1/2)*(np.square(x) + np.square(y))/np.square(sigma) )\n",
    "    return filt/np.sum(filt)\n",
    "\n",
    "def normalization(I, maxd):\n",
    "    \"\"\"Function to perform image normalization (0-maxd)\"\"\"\n",
    "    I_norm = ((I - np.amin(I)) * maxd) / (np.amax(I) - np.amin(I))\n",
    "\n",
    "    return I_norm\n",
    "\n",
    "def CLS_filter(g, h, gamma):\n",
    "    \n",
    "    p = np.array(([0 ,-1, 0], [-1, 4, -1], [0, -1, 0]))\n",
    "    \n",
    "    padh = (g.shape[0]//2)-h.shape[0]//2\n",
    "    padp = (g.shape[0]//2)-p.shape[0]//2\n",
    "    \n",
    "    hp = np.pad(h, (padh,padh-1), \"constant\",  constant_values=0)\n",
    "    pp = (np.pad(p, (padp,padp-1), \"constant\", constant_values=0))\n",
    "    \n",
    "    G = fftn(g)\n",
    "    H = fftn(hp)\n",
    "    P = fftn(pp)\n",
    "    \n",
    "    f = np.conj(H) / (np.abs(H)**2 + gamma * np.abs(P)**2)\n",
    "    F = f * G \n",
    "    F = np.real(fftshift(ifftn(F)))\n",
    "    \n",
    "    F = normalization(F, np.amax(g))   \n",
    "    \n",
    "    return F\n",
    "\n",
    "def image_filter(g, h):\n",
    "\n",
    "    # padding the filter so that it has the same size of the image\n",
    "    pad = (g.shape[0]//2)-h.shape[0]//2\n",
    "    hp = np.pad(h, (pad,pad-1), \"constant\",  constant_values=0)\n",
    "\n",
    "    # computing the Fourier transforms\n",
    "    H = fftn(hp)\n",
    "    G = fftn(g)\n",
    "    f = np.multiply(H,G)\n",
    "\n",
    "    F = np.real(fftshift(ifftn(f)))\n",
    "    \n",
    "    F = normalization(F, np.amax(g))\n",
    "    \n",
    "    return F"
   ]
  },
  {
   "cell_type": "code",
   "execution_count": 25,
   "metadata": {},
   "outputs": [
    {
     "name": "stdout",
     "output_type": "stream",
     "text": [
      "5\n"
     ]
    }
   ],
   "source": [
    "test_case = int(input())"
   ]
  },
  {
   "cell_type": "markdown",
   "metadata": {},
   "source": [
    "<b> Expected results </b>\n",
    "\n",
    ">test_case 1 -> 52.9 <br>\n",
    ">test_case 2 -> 55.8 <br>\n",
    ">test_case 3 -> 49.1 <br>\n",
    ">test_case 4 -> 56.1 <br>\n",
    ">test_case 5 -> 41.7 <br>"
   ]
  },
  {
   "cell_type": "code",
   "execution_count": 26,
   "metadata": {},
   "outputs": [
    {
     "name": "stdout",
     "output_type": "stream",
     "text": [
      "Expected result -> 41.7\n"
     ]
    }
   ],
   "source": [
    "if test_case == 1:\n",
    "    f = imageio.imread(\"images_sa2/case_b1_n.png\")\n",
    "    k = 3\n",
    "    sigma = 0.6\n",
    "    gamma = 0.001\n",
    "    print(\"Expected result -> 52.9\")\n",
    "elif test_case == 2:\n",
    "    f = imageio.imread(\"images_sa2/case_b2_n.png\")\n",
    "    k = 11\n",
    "    sigma = 1\n",
    "    gamma = 0.00001\n",
    "    print(\"Expected result -> 55.8\")\n",
    "elif test_case == 3:\n",
    "    f = imageio.imread(\"images_sa2/case_b1_n.png\")\n",
    "    k = 5\n",
    "    sigma = 0.666\n",
    "    gamma = 0.002\n",
    "    print(\"Expected result -> 49.1\")\n",
    "elif test_case == 4:\n",
    "    f = imageio.imread(\"images_sa2/case_b2_n.png\")\n",
    "    k = 11\n",
    "    sigma = 1.5\n",
    "    gamma = 0.00001\n",
    "    print(\"Expected result -> 56.1\")\n",
    "elif test_case == 5:\n",
    "    f = imageio.imread(\"images_sa2/case_b_n2.png\")\n",
    "    k = 7\n",
    "    sigma = 0.95\n",
    "    gamma = 0.0001\n",
    "    print(\"Expected result -> 41.7\")"
   ]
  },
  {
   "cell_type": "code",
   "execution_count": 27,
   "metadata": {},
   "outputs": [],
   "source": [
    "h = gaussian_filter(k, sigma)\n",
    "\n",
    "g = image_filter(f, h)\n",
    "\n",
    "F = CLS_filter(g, h, gamma)"
   ]
  },
  {
   "cell_type": "code",
   "execution_count": 28,
   "metadata": {},
   "outputs": [
    {
     "name": "stdout",
     "output_type": "stream",
     "text": [
      "41.92\n"
     ]
    }
   ],
   "source": [
    "print('{0:.2f}'.format(np.std(F)))"
   ]
  },
  {
   "cell_type": "code",
   "execution_count": 8,
   "metadata": {},
   "outputs": [
    {
     "data": {
      "text/plain": [
       "'\\nplt.figure(figsize=(18,6))\\nplt.subplot(121)\\nplt.imshow(f, cmap=\"gray\", vmin=0, vmax=255); plt.axis(\\'off\\')\\nplt.subplot(122)\\nplt.imshow(r, cmap=\"gray\", vmin=0, vmax=255); plt.axis(\\'off\\')'"
      ]
     },
     "execution_count": 8,
     "metadata": {},
     "output_type": "execute_result"
    }
   ],
   "source": [
    "\"\"\"\n",
    "plt.figure(figsize=(18,6))\n",
    "plt.subplot(121)\n",
    "plt.imshow(f, cmap=\"gray\", vmin=0, vmax=255); plt.axis('off')\n",
    "plt.subplot(122)\n",
    "plt.imshow(r, cmap=\"gray\", vmin=0, vmax=255); plt.axis('off')\"\"\""
   ]
  },
  {
   "cell_type": "code",
   "execution_count": 9,
   "metadata": {},
   "outputs": [
    {
     "data": {
      "text/plain": [
       "'\\nplt.figure(figsize=(18,6))\\nplt.subplot(121)\\nplt.imshow(r, cmap=\"gray\", vmin=0, vmax=255); plt.axis(\\'off\\')\\nplt.subplot(122)\\nplt.imshow(F, cmap=\"gray\", vmin=0, vmax=255); plt.axis(\\'off\\')'"
      ]
     },
     "execution_count": 9,
     "metadata": {},
     "output_type": "execute_result"
    }
   ],
   "source": [
    "\"\"\"\n",
    "plt.figure(figsize=(18,6))\n",
    "plt.subplot(121)\n",
    "plt.imshow(r, cmap=\"gray\", vmin=0, vmax=255); plt.axis('off')\n",
    "plt.subplot(122)\n",
    "plt.imshow(F, cmap=\"gray\", vmin=0, vmax=255); plt.axis('off')\"\"\""
   ]
  }
 ],
 "metadata": {
  "kernelspec": {
   "display_name": "Python 3",
   "language": "python",
   "name": "python3"
  },
  "language_info": {
   "codemirror_mode": {
    "name": "ipython",
    "version": 3
   },
   "file_extension": ".py",
   "mimetype": "text/x-python",
   "name": "python",
   "nbconvert_exporter": "python",
   "pygments_lexer": "ipython3",
   "version": "3.6.10"
  }
 },
 "nbformat": 4,
 "nbformat_minor": 2
}
