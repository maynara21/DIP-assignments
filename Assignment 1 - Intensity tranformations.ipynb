{
 "cells": [
  {
   "cell_type": "code",
   "execution_count": 1,
   "metadata": {},
   "outputs": [],
   "source": [
    "import numpy as np\n",
    "import matplotlib.pyplot as plt\n",
    "import imageio\n",
    "import math"
   ]
  },
  {
   "cell_type": "code",
   "execution_count": null,
   "metadata": {},
   "outputs": [],
   "source": [
    "def inversion(img):\n",
    "    \n",
    "    img_invert = 255 - img\n",
    "    \n",
    "    return img_invert\n",
    "\n",
    "def contrast_modulation(img, c, d):\n",
    "    \n",
    "    a = np.amin(img) # lowest image intensity value\n",
    "    b = np.amax(img) # higest image intensity value\n",
    "    img_cm = ((img.astype(np.int32)-a) * ((d-c) / (b-a)) + c)\n",
    "    \n",
    "    return img_cm\n",
    "\n",
    "def logarithmic_enhancement(img):\n",
    "   \n",
    "    c_scale = 255 / (np.log2(1+255))\n",
    "    img_log = (c_scale * np.log2(1 + img.astype(np.int32)))\n",
    "    \n",
    "    return img_log\n",
    "    \n",
    "def gamma_adjustment(img, W, lambd):\n",
    "    \n",
    "    img_gamma = (W * np.power(img.astype(np.int32), lambd))\n",
    "    \n",
    "    return img_gamma\n",
    "\n",
    "def RSE(output_img, input_img): # Roor Square Error\n",
    "    \n",
    "    M,N = input_img.shape # image dimensions\n",
    "    sumerror = 0\n",
    "    \n",
    "    for i in range(M):\n",
    "        for j in range(N):\n",
    "            # sum of square errors\n",
    "            sumerror = sumerror + math.pow(float(output_img[i][j]) - float(input_img[i][j]), 2)\n",
    "\n",
    "    RSE = math.sqrt(sum_errors) # sum root (final result)\n",
    "    print('{0:.4f}'.format(RSE))"
   ]
  },
  {
   "cell_type": "code",
   "execution_count": null,
   "metadata": {},
   "outputs": [],
   "source": [
    "filename = str(input()).rstrip()\n",
    "input_img = imageio.imread(filename)\n",
    "method = int(input())\n",
    "save = int(input())"
   ]
  },
  {
   "cell_type": "code",
   "execution_count": null,
   "metadata": {},
   "outputs": [],
   "source": [
    "if method == 1: # image inversion\n",
    "    output_img = inversion(input_img)\n",
    "    \n",
    "if method == 2: # contrast modulation\n",
    "    c = int(input()) # new lowest intensity value\n",
    "    d = int(input()) # new highest intensity value\n",
    "    output_img = contrast_modulation(input_img, c, d)\n",
    "\n",
    "if method == 3: # logarithmic enhancement\n",
    "    output_img = logarithmic_enhancement(input_img)\n",
    "\n",
    "if method == 4: # gamma adjustment\n",
    "    W = int(input()) # maximum graylevel\n",
    "    lambd = float(input()) # defining the increase of the dynamic range of dark (lambd > 1)/bright (lambd < 1) pixels\n",
    "    output_img = gamma_adjustment(input_img, W, lambd)\n",
    "    \n",
    "if save == 1: # to save the output image\n",
    "    imageio.imwrite('output_img.png', output_img)"
   ]
  },
  {
   "cell_type": "code",
   "execution_count": null,
   "metadata": {},
   "outputs": [],
   "source": [
    "# Comparing with reference (Root Square Error)\n",
    "RSE(output_img, input_img)"
   ]
  }
 ],
 "metadata": {
  "kernelspec": {
   "display_name": "Python 3",
   "language": "python",
   "name": "python3"
  },
  "language_info": {
   "codemirror_mode": {
    "name": "ipython",
    "version": 3
   },
   "file_extension": ".py",
   "mimetype": "text/x-python",
   "name": "python",
   "nbconvert_exporter": "python",
   "pygments_lexer": "ipython3",
   "version": "3.6.10"
  }
 },
 "nbformat": 4,
 "nbformat_minor": 2
}
